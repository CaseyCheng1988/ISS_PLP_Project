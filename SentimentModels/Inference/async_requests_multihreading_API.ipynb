{
 "cells": [
  {
   "cell_type": "code",
   "execution_count": 63,
   "metadata": {},
   "outputs": [],
   "source": [
    "#!pip install aiohttp\n"
   ]
  },
  {
   "cell_type": "code",
   "execution_count": 1,
   "metadata": {},
   "outputs": [
    {
     "name": "stderr",
     "output_type": "stream",
     "text": [
      "C:\\Users\\user\\anaconda3\\lib\\site-packages\\requests\\__init__.py:89: RequestsDependencyWarning: urllib3 (1.26.7) or chardet (3.0.4) doesn't match a supported version!\n",
      "  warnings.warn(\"urllib3 ({}) or chardet ({}) doesn't match a supported \"\n"
     ]
    },
    {
     "name": "stdout",
     "output_type": "stream",
     "text": [
      "{'Review text': 'yes, this is really good', 'Predicted sentiment': 'Positive', 'Score': 0.5943080186843872, 'overall': 4.782924056053162}\n",
      "False\n",
      "https://sentiment.danielthx.repl.co/input/{}\n",
      "{'Review text': 'yes, this is really good', 'Predicted sentiment': 'Positive', 'Score': 0.5943080186843872, 'overall': 4.782924056053162}\n",
      "{'Review text': 'hello', 'Predicted sentiment': 'Positive', 'Score': 0.4723098874092102, 'overall': 4.416929662227631}\n",
      "{'Review text': 'this is terrible', 'Predicted sentiment': 'Negative', 'Score': 0.6118656396865845, 'overall': 1.1644030809402466}\n",
      "{'Review text': 'very bad', 'Predicted sentiment': 'Negative', 'Score': 0.5605408549308777, 'overall': 1.318377435207367}\n",
      "{'Review text': 'good', 'Predicted sentiment': 'Positive', 'Score': 0.4863162934780121, 'overall': 4.458948880434036}\n",
      "{'Review text': 'amazing', 'Predicted sentiment': 'Positive', 'Score': 0.6286893486976624, 'overall': 4.886068046092987}\n",
      "{'Review text': 'very epic', 'Predicted sentiment': 'Positive', 'Score': 0.5868638157844543, 'overall': 4.760591447353363}\n",
      "{'Review text': 'extraordinary', 'Predicted sentiment': 'Positive', 'Score': 0.5608235001564026, 'overall': 4.682470500469208}\n",
      "{'Review text': 'WOW', 'Predicted sentiment': 'Positive', 'Score': 0.5517655611038208, 'overall': 4.655296683311462}\n",
      "{'Review text': 'great!', 'Predicted sentiment': 'Positive', 'Score': 0.6327590942382812, 'overall': 4.898277282714844}\n",
      "It took 1.6486947536468506 seconds to make 10 API calls\n",
      "You did it!\n"
     ]
    }
   ],
   "source": [
    "#Async HTTP request method\n",
    "#https://github.com/PatrickAlphaC/async-python/blob/main/async_run_v2.py\n",
    "import asyncio,requests\n",
    "import aiohttp\n",
    "import os\n",
    "import time\n",
    "import nest_asyncio\n",
    "nest_asyncio.apply()\n",
    "\n",
    "url2 = 'http://danieltanhx.pythonanywhere.com/?input={}' #backup api\n",
    "url1 = 'https://sentiment.danielthx.repl.co/input/{}'#main fastapi\n",
    "symbols = ['yes, this is really good', 'hello', 'this is terrible', \n",
    "           'very bad', 'good','amazing','very epic','extraordinary','WOW','great!']\n",
    "\n",
    "start = time.time()\n",
    "\n",
    "def get_tasks(url,session):\n",
    "    return [asyncio.create_task(session.get(url.format(symbol),ssl=False)) for symbol in symbols ]\n",
    "\n",
    "async def get_symbols(down):\n",
    "    print(down)\n",
    "    if not down:\n",
    "        url=url1\n",
    "    else:\n",
    "        url=url2\n",
    "    print(url)\n",
    "    async with aiohttp.ClientSession() as session:\n",
    "        tasks = get_tasks(url,session)\n",
    "        # you could also do\n",
    "        # tasks = [session.get(URL.format(symbol, API_KEY), ssl=False) for symbol in symbols]\n",
    "        responses = await asyncio.gather(*tasks)\n",
    "        return [await response.json() for response in responses]\n",
    "\n",
    "down=False\n",
    "for s in symbols[:1]:\n",
    "    try:\n",
    "        print(requests.get(url1.format(s)).json())\n",
    "    except:\n",
    "        down=True\n",
    "        print(requests.get(url2.format(s)).json())\n",
    "for r in (asyncio.run(get_symbols(down))):\n",
    "    print(r)\n",
    "\n",
    "\n",
    "\n",
    "end = time.time()\n",
    "total_time = end - start\n",
    "print(\"It took {} seconds to make {} API calls\".format(total_time, len(symbols)))\n",
    "print('You did it!')"
   ]
  },
  {
   "cell_type": "code",
   "execution_count": 2,
   "metadata": {},
   "outputs": [
    {
     "name": "stdout",
     "output_type": "stream",
     "text": [
      "{'Review text': 'yes, this is really good', 'Predicted sentiment': 'Positive', 'Score': 0.5943080186843872, 'overall': 4.782924056053162}\n",
      "{'Review text': 'hello', 'Predicted sentiment': 'Positive', 'Score': 0.4723098874092102, 'overall': 4.416929662227631}\n",
      "{'Review text': 'this is terrible', 'Predicted sentiment': 'Negative', 'Score': 0.6118656396865845, 'overall': 1.1644030809402466}\n",
      "{'Review text': 'very bad', 'Predicted sentiment': 'Negative', 'Score': 0.5605408549308777, 'overall': 1.318377435207367}\n",
      "{'Review text': 'good', 'Predicted sentiment': 'Positive', 'Score': 0.4863162934780121, 'overall': 4.458948880434036}\n",
      "{'Review text': 'amazing', 'Predicted sentiment': 'Positive', 'Score': 0.6286893486976624, 'overall': 4.886068046092987}\n",
      "{'Review text': 'very epic', 'Predicted sentiment': 'Positive', 'Score': 0.5868638157844543, 'overall': 4.760591447353363}\n",
      "{'Review text': 'extraordinary', 'Predicted sentiment': 'Positive', 'Score': 0.5608235001564026, 'overall': 4.682470500469208}\n",
      "{'Review text': 'WOW', 'Predicted sentiment': 'Positive', 'Score': 0.5517655611038208, 'overall': 4.655296683311462}\n",
      "{'Review text': 'great!', 'Predicted sentiment': 'Positive', 'Score': 0.6327590942382812, 'overall': 4.898277282714844}\n",
      "It took 5.867714166641235 seconds to make 10 API calls\n",
      "You did it!\n"
     ]
    }
   ],
   "source": [
    "#sequential methods\n",
    "url=url1\n",
    "start = time.time()\n",
    "import requests\n",
    "for symbol in symbols:\n",
    "    print(requests.get(url.format(symbol,ssl=False)).json())\n",
    "end = time.time()\n",
    "total_time = end - start\n",
    "print(\"It took {} seconds to make {} API calls\".format(total_time, len(symbols)))\n",
    "print('You did it!')"
   ]
  },
  {
   "cell_type": "code",
   "execution_count": 3,
   "metadata": {},
   "outputs": [
    {
     "name": "stdout",
     "output_type": "stream",
     "text": [
      "{'Review text': 'this is terrible', 'Predicted sentiment': 'Negative', 'Score': 0.6118656396865845, 'overall': 1.1644030809402466}\n",
      "{'Review text': 'extraordinary', 'Predicted sentiment': 'Positive', 'Score': 0.5608235001564026, 'overall': 4.682470500469208}\n",
      "{'Review text': 'very bad', 'Predicted sentiment': 'Negative', 'Score': 0.5605408549308777, 'overall': 1.318377435207367}\n",
      "{'Review text': 'WOW', 'Predicted sentiment': 'Positive', 'Score': 0.5517655611038208, 'overall': 4.655296683311462}\n",
      "{'Review text': 'amazing', 'Predicted sentiment': 'Positive', 'Score': 0.6286893486976624, 'overall': 4.886068046092987}\n",
      "{'Review text': 'yes, this is really good', 'Predicted sentiment': 'Positive', 'Score': 0.5943080186843872, 'overall': 4.782924056053162}\n",
      "{'Review text': 'good', 'Predicted sentiment': 'Positive', 'Score': 0.4863162934780121, 'overall': 4.458948880434036}\n",
      "{'Review text': 'very epic', 'Predicted sentiment': 'Positive', 'Score': 0.5868638157844543, 'overall': 4.760591447353363}\n",
      "{'Review text': 'hello', 'Predicted sentiment': 'Positive', 'Score': 0.4723098874092102, 'overall': 4.416929662227631}\n",
      "{'Review text': 'great!', 'Predicted sentiment': 'Positive', 'Score': 0.6327590942382812, 'overall': 4.898277282714844}\n",
      "Finished in 1.0238364000000075 seconds\n"
     ]
    }
   ],
   "source": [
    "#Multithreading methods\n",
    "#https://github.com/CoreyMSchafer/code_snippets/tree/master/Python/Threading\n",
    "import concurrent.futures\n",
    "url=url1\n",
    "urls=[url.format(symbol) for symbol in symbols]\n",
    "\n",
    "\n",
    "t1 = time.perf_counter()\n",
    "\n",
    "\n",
    "def query(url):\n",
    "    img_bytes = requests.get(url).json()\n",
    "    print(img_bytes)\n",
    "\n",
    "\n",
    "with concurrent.futures.ThreadPoolExecutor() as executor:\n",
    "    executor.map(query, urls)\n",
    "\n",
    "\n",
    "t2 = time.perf_counter()\n",
    "\n",
    "print(f'Finished in {t2-t1} seconds')"
   ]
  },
  {
   "cell_type": "code",
   "execution_count": null,
   "metadata": {},
   "outputs": [],
   "source": []
  }
 ],
 "metadata": {
  "kernelspec": {
   "display_name": "Python 3",
   "language": "python",
   "name": "python3"
  },
  "language_info": {
   "codemirror_mode": {
    "name": "ipython",
    "version": 3
   },
   "file_extension": ".py",
   "mimetype": "text/x-python",
   "name": "python",
   "nbconvert_exporter": "python",
   "pygments_lexer": "ipython3",
   "version": "3.8.5"
  }
 },
 "nbformat": 4,
 "nbformat_minor": 4
}
