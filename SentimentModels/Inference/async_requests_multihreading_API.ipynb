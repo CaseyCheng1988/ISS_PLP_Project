{
 "cells": [
  {
   "cell_type": "code",
   "execution_count": 63,
   "metadata": {},
   "outputs": [],
   "source": [
    "#!pip install aiohttp"
   ]
  },
  {
   "cell_type": "code",
   "execution_count": 68,
   "metadata": {},
   "outputs": [
    {
     "name": "stdout",
     "output_type": "stream",
     "text": [
      "[{'Predicted sentiment': 'Positive', 'Review text': 'yes, this is really good', 'Score': 0.5943080186843872, 'overall': 4.782924056053162}, {'Predicted sentiment': 'Positive', 'Review text': 'hello', 'Score': 0.4723098874092102, 'overall': 4.416929662227631}, {'Predicted sentiment': 'Negative', 'Review text': 'this is terrible', 'Score': 0.6118656396865845, 'overall': 1.1644030809402466}, {'Predicted sentiment': 'Negative', 'Review text': 'very bad', 'Score': 0.5605408549308777, 'overall': 1.318377435207367}, {'Predicted sentiment': 'Positive', 'Review text': 'good', 'Score': 0.4863162934780121, 'overall': 4.458948880434036}, {'Predicted sentiment': 'Positive', 'Review text': 'amazing', 'Score': 0.6286893486976624, 'overall': 4.886068046092987}, {'Predicted sentiment': 'Positive', 'Review text': 'very epic', 'Score': 0.5868638157844543, 'overall': 4.760591447353363}, {'Predicted sentiment': 'Positive', 'Review text': 'extraordinary', 'Score': 0.5608235001564026, 'overall': 4.682470500469208}, {'Predicted sentiment': 'Positive', 'Review text': 'WOW', 'Score': 0.5517655611038208, 'overall': 4.655296683311462}, {'Predicted sentiment': 'Positive', 'Review text': 'great!', 'Score': 0.6327590942382812, 'overall': 4.898277282714844}]\n",
      "It took 33.262930393218994 seconds to make 10 API calls\n",
      "You did it!\n"
     ]
    }
   ],
   "source": [
    "#Async HTTP request method\n",
    "#https://github.com/PatrickAlphaC/async-python/blob/main/async_run_v2.py\n",
    "import asyncio\n",
    "import aiohttp\n",
    "import os\n",
    "import time\n",
    "import nest_asyncio\n",
    "nest_asyncio.apply()\n",
    "\n",
    "url = 'http://danieltanhx.pythonanywhere.com/?input={}'\n",
    "symbols = ['yes, this is really good', 'hello', 'this is terrible', \n",
    "           'very bad', 'good','amazing','very epic','extraordinary','WOW','great!']\n",
    "\n",
    "start = time.time()\n",
    "\n",
    "def get_tasks(session):\n",
    "    return [asyncio.create_task(session.get(url.format(symbol))) for symbol in symbols ]\n",
    "\n",
    "async def get_symbols():\n",
    "    async with aiohttp.ClientSession() as session:\n",
    "        tasks = get_tasks(session)\n",
    "        # you could also do\n",
    "        # tasks = [session.get(URL.format(symbol, API_KEY), ssl=False) for symbol in symbols]\n",
    "        responses = await asyncio.gather(*tasks)\n",
    "        return [await response.json() for response in responses]\n",
    "\n",
    "print(asyncio.run(get_symbols()))\n",
    "\n",
    "end = time.time()\n",
    "total_time = end - start\n",
    "print(\"It took {} seconds to make {} API calls\".format(total_time, len(symbols)))\n",
    "print('You did it!')"
   ]
  },
  {
   "cell_type": "code",
   "execution_count": 69,
   "metadata": {},
   "outputs": [
    {
     "name": "stdout",
     "output_type": "stream",
     "text": [
      "{'Predicted sentiment': 'Positive', 'Review text': 'yes, this is really good', 'Score': 0.5943080186843872, 'overall': 4.782924056053162}\n",
      "{'Predicted sentiment': 'Positive', 'Review text': 'hello', 'Score': 0.4723098874092102, 'overall': 4.416929662227631}\n",
      "{'Predicted sentiment': 'Negative', 'Review text': 'this is terrible', 'Score': 0.6118656396865845, 'overall': 1.1644030809402466}\n",
      "{'Predicted sentiment': 'Negative', 'Review text': 'very bad', 'Score': 0.5605408549308777, 'overall': 1.318377435207367}\n",
      "{'Predicted sentiment': 'Positive', 'Review text': 'good', 'Score': 0.4863162934780121, 'overall': 4.458948880434036}\n",
      "{'Predicted sentiment': 'Positive', 'Review text': 'amazing', 'Score': 0.6286893486976624, 'overall': 4.886068046092987}\n",
      "{'Predicted sentiment': 'Positive', 'Review text': 'very epic', 'Score': 0.5868638157844543, 'overall': 4.760591447353363}\n",
      "{'Predicted sentiment': 'Positive', 'Review text': 'extraordinary', 'Score': 0.5608235001564026, 'overall': 4.682470500469208}\n",
      "{'Predicted sentiment': 'Positive', 'Review text': 'WOW', 'Score': 0.5517655611038208, 'overall': 4.655296683311462}\n",
      "{'Predicted sentiment': 'Positive', 'Review text': 'great!', 'Score': 0.6327590942382812, 'overall': 4.898277282714844}\n",
      "It took 46.01788902282715 seconds to make 10 API calls\n",
      "You did it!\n"
     ]
    }
   ],
   "source": [
    "#sequential methods\n",
    "start = time.time()\n",
    "import requests\n",
    "for symbol in symbols:\n",
    "    print(requests.get(url.format(symbol)).json())\n",
    "end = time.time()\n",
    "total_time = end - start\n",
    "print(\"It took {} seconds to make {} API calls\".format(total_time, len(symbols)))\n",
    "print('You did it!')"
   ]
  },
  {
   "cell_type": "code",
   "execution_count": 70,
   "metadata": {},
   "outputs": [
    {
     "name": "stdout",
     "output_type": "stream",
     "text": [
      "{'Predicted sentiment': 'Positive', 'Review text': 'yes, this is really good', 'Score': 0.5943080186843872, 'overall': 4.782924056053162}\n",
      "{'Predicted sentiment': 'Positive', 'Review text': 'hello', 'Score': 0.4723098874092102, 'overall': 4.416929662227631}\n",
      "{'Predicted sentiment': 'Positive', 'Review text': 'good', 'Score': 0.4863162934780121, 'overall': 4.458948880434036}\n",
      "{'Predicted sentiment': 'Negative', 'Review text': 'this is terrible', 'Score': 0.6118656396865845, 'overall': 1.1644030809402466}\n",
      "{'Predicted sentiment': 'Positive', 'Review text': 'amazing', 'Score': 0.6286893486976624, 'overall': 4.886068046092987}\n",
      "{'Predicted sentiment': 'Negative', 'Review text': 'very bad', 'Score': 0.5605408549308777, 'overall': 1.318377435207367}\n",
      "{'Predicted sentiment': 'Positive', 'Review text': 'WOW', 'Score': 0.5517655611038208, 'overall': 4.655296683311462}\n",
      "{'Predicted sentiment': 'Positive', 'Review text': 'extraordinary', 'Score': 0.5608235001564026, 'overall': 4.682470500469208}\n",
      "{'Predicted sentiment': 'Positive', 'Review text': 'very epic', 'Score': 0.5868638157844543, 'overall': 4.760591447353363}\n",
      "{'Predicted sentiment': 'Positive', 'Review text': 'great!', 'Score': 0.6327590942382812, 'overall': 4.898277282714844}\n",
      "Finished in 42.7958979 seconds\n"
     ]
    }
   ],
   "source": [
    "#Multithreading methods\n",
    "#https://github.com/CoreyMSchafer/code_snippets/tree/master/Python/Threading\n",
    "import concurrent.futures\n",
    "urls=[url.format(symbol) for symbol in symbols]\n",
    "\n",
    "\n",
    "t1 = time.perf_counter()\n",
    "\n",
    "\n",
    "def query(url):\n",
    "    img_bytes = requests.get(url).json()\n",
    "    print(img_bytes)\n",
    "\n",
    "\n",
    "with concurrent.futures.ThreadPoolExecutor() as executor:\n",
    "    executor.map(query, urls)\n",
    "\n",
    "\n",
    "t2 = time.perf_counter()\n",
    "\n",
    "print(f'Finished in {t2-t1} seconds')"
   ]
  },
  {
   "cell_type": "code",
   "execution_count": null,
   "metadata": {},
   "outputs": [],
   "source": []
  }
 ],
 "metadata": {
  "kernelspec": {
   "display_name": "Python 3",
   "language": "python",
   "name": "python3"
  },
  "language_info": {
   "codemirror_mode": {
    "name": "ipython",
    "version": 3
   },
   "file_extension": ".py",
   "mimetype": "text/x-python",
   "name": "python",
   "nbconvert_exporter": "python",
   "pygments_lexer": "ipython3",
   "version": "3.8.5"
  }
 },
 "nbformat": 4,
 "nbformat_minor": 4
}
