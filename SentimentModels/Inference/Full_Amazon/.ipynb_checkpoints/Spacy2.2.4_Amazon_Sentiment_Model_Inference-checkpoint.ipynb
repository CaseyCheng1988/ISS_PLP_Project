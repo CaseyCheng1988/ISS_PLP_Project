{
 "cells": [
  {
   "cell_type": "code",
   "execution_count": 3,
   "metadata": {},
   "outputs": [
    {
     "name": "stdout",
     "output_type": "stream",
     "text": [
      "2.2.4\n"
     ]
    }
   ],
   "source": [
    "import spacy\n",
    "print(spacy.__version__)\n",
    "# Load saved model\n",
    "loaded_model = spacy.load(\"model_artifacts_full_amazon\") "
   ]
  },
  {
   "cell_type": "code",
   "execution_count": 5,
   "metadata": {},
   "outputs": [],
   "source": [
    "# Test predictions for reviews\n",
    "def spacy2_model(TEST_REVIEW):\n",
    "    # Generate prediction\n",
    "    input_data=TEST_REVIEW\n",
    "    parsed_text = loaded_model(input_data)\n",
    "    # Determine prediction to return\n",
    "    if parsed_text.cats[\"pos\"] > parsed_text.cats[\"neg\"]:\n",
    "        prediction = \"Positive\"\n",
    "        score = parsed_text.cats[\"pos\"]\n",
    "        overall =score*3+3\n",
    "    else:\n",
    "        prediction = \"Negative\"\n",
    "        score = parsed_text.cats[\"neg\"]\n",
    "        overall =3-score*3\n",
    "    print(f\"Review text: {input_data}\\nPredicted sentiment: {prediction}\"\n",
    "        f\"\\tScore: {score}\")\n",
    "    \n",
    "    print('overall:%s'%overall)"
   ]
  },
  {
   "cell_type": "code",
   "execution_count": 6,
   "metadata": {},
   "outputs": [
    {
     "name": "stdout",
     "output_type": "stream",
     "text": [
      "Review text: this shirt is not bad\n",
      "Predicted sentiment: Positive\tScore: 0.35832956433296204\n",
      "overall:4.074988692998886\n"
     ]
    }
   ],
   "source": [
    "TEST_REVIEW = \"this shirt is not bad\"\n",
    "spacy2_model(TEST_REVIEW)"
   ]
  },
  {
   "cell_type": "code",
   "execution_count": null,
   "metadata": {},
   "outputs": [],
   "source": []
  }
 ],
 "metadata": {
  "kernelspec": {
   "display_name": "Python 3",
   "language": "python",
   "name": "python3"
  }
 },
 "nbformat": 4,
 "nbformat_minor": 4
}
