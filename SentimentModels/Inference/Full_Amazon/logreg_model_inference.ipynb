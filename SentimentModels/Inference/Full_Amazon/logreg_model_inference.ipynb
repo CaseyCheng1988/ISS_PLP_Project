{
 "cells": [
  {
   "cell_type": "code",
   "execution_count": 12,
   "metadata": {},
   "outputs": [],
   "source": [
    "import pickle as pk\n",
    "vectorizer = pk.load(open('vectorizer.pk', 'rb'))\n",
    "loaded_model = pk.load(open('logreg_model.sav', 'rb'))"
   ]
  },
  {
   "cell_type": "code",
   "execution_count": 13,
   "metadata": {},
   "outputs": [],
   "source": [
    "def logreg_model(TEST_REVIEW):\n",
    "    test_vectors = vectorizer.transform([TEST_REVIEW])\n",
    "    predME = loaded_model.predict(test_vectors)\n",
    "    pred= list(predME)\n",
    "    if pred==[1.0]:\n",
    "        prediction = \"Positive\"\n",
    "    else:\n",
    "        prediction = \"Negative\"\n",
    "    print('Predicted sentiment:%s'%prediction\n",
    "        )"
   ]
  },
  {
   "cell_type": "code",
   "execution_count": 17,
   "metadata": {},
   "outputs": [
    {
     "name": "stdout",
     "output_type": "stream",
     "text": [
      "Predicted sentiment:Positive\n"
     ]
    }
   ],
   "source": [
    "TEST_REVIEW = \"this shirt is good\"\n",
    "logreg_model(TEST_REVIEW)"
   ]
  },
  {
   "cell_type": "code",
   "execution_count": 14,
   "metadata": {},
   "outputs": [],
   "source": []
  },
  {
   "cell_type": "code",
   "execution_count": null,
   "metadata": {},
   "outputs": [],
   "source": []
  }
 ],
 "metadata": {
  "kernelspec": {
   "display_name": "Python 3",
   "language": "python",
   "name": "python3"
  },
  "language_info": {
   "codemirror_mode": {
    "name": "ipython",
    "version": 3
   },
   "file_extension": ".py",
   "mimetype": "text/x-python",
   "name": "python",
   "nbconvert_exporter": "python",
   "pygments_lexer": "ipython3",
   "version": "3.8.5"
  }
 },
 "nbformat": 4,
 "nbformat_minor": 4
}
